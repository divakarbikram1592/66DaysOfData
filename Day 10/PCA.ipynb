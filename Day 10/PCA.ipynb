{
  "nbformat": 4,
  "nbformat_minor": 0,
  "metadata": {
    "colab": {
      "name": "PCA.ipynb",
      "provenance": [],
      "collapsed_sections": [],
      "authorship_tag": "ABX9TyNwDW88AxJiLqMr/XQm5O6T",
      "include_colab_link": true
    },
    "kernelspec": {
      "name": "python3",
      "display_name": "Python 3"
    },
    "language_info": {
      "name": "python"
    }
  },
  "cells": [
    {
      "cell_type": "markdown",
      "metadata": {
        "id": "view-in-github",
        "colab_type": "text"
      },
      "source": [
        "<a href=\"https://colab.research.google.com/github/mayur7garg/66DaysOfData/blob/main/Day%2010/PCA.ipynb\" target=\"_parent\"><img src=\"https://colab.research.google.com/assets/colab-badge.svg\" alt=\"Open In Colab\"/></a>"
      ]
    },
    {
      "cell_type": "markdown",
      "metadata": {
        "id": "N3F_FqSKMOXd"
      },
      "source": [
        "# Principal Component Analysis"
      ]
    },
    {
      "cell_type": "markdown",
      "metadata": {
        "id": "KV-GfnM8MSkk"
      },
      "source": [
        "## Imports"
      ]
    },
    {
      "cell_type": "code",
      "metadata": {
        "id": "L5141u2gHTXg"
      },
      "source": [
        "import numpy as np\n",
        "from sklearn.decomposition import PCA"
      ],
      "execution_count": 1,
      "outputs": []
    },
    {
      "cell_type": "markdown",
      "metadata": {
        "id": "ZSHjNuAdMb4V"
      },
      "source": [
        "## Sample Data"
      ]
    },
    {
      "cell_type": "code",
      "metadata": {
        "colab": {
          "base_uri": "https://localhost:8080/"
        },
        "id": "bmIXanQQIwC6",
        "outputId": "d678287d-de44-4e22-a8ea-fddbd65e0991"
      },
      "source": [
        "A = np.random.randint(low = 0, high = 10, size = (5, 3))\n",
        "A"
      ],
      "execution_count": 2,
      "outputs": [
        {
          "output_type": "execute_result",
          "data": {
            "text/plain": [
              "array([[4, 8, 1],\n",
              "       [8, 6, 2],\n",
              "       [7, 2, 8],\n",
              "       [4, 3, 4],\n",
              "       [3, 6, 2]])"
            ]
          },
          "metadata": {
            "tags": []
          },
          "execution_count": 2
        }
      ]
    },
    {
      "cell_type": "markdown",
      "metadata": {
        "id": "8VR7knzkMUY8"
      },
      "source": [
        "## PCA using Linear Algebra"
      ]
    },
    {
      "cell_type": "markdown",
      "metadata": {
        "id": "aPq2mOf7MfYE"
      },
      "source": [
        "### Calculate the mean per column/feature"
      ]
    },
    {
      "cell_type": "code",
      "metadata": {
        "colab": {
          "base_uri": "https://localhost:8080/"
        },
        "id": "nXdc1XY6I-LD",
        "outputId": "d32f761b-1030-40eb-e5be-a4d85c068598"
      },
      "source": [
        "M = A.mean(axis = 0)\n",
        "M"
      ],
      "execution_count": 3,
      "outputs": [
        {
          "output_type": "execute_result",
          "data": {
            "text/plain": [
              "array([5.2, 5. , 3.4])"
            ]
          },
          "metadata": {
            "tags": []
          },
          "execution_count": 3
        }
      ]
    },
    {
      "cell_type": "markdown",
      "metadata": {
        "id": "6IFhAH00Mj8M"
      },
      "source": [
        "### Center the data by subtracting the mean columnwise from the data"
      ]
    },
    {
      "cell_type": "code",
      "metadata": {
        "colab": {
          "base_uri": "https://localhost:8080/"
        },
        "id": "ZEAeQ3-oJG9I",
        "outputId": "52ab8dab-08ca-4e0b-8ef4-b09ef4b94631"
      },
      "source": [
        "C = A - M\n",
        "C"
      ],
      "execution_count": 4,
      "outputs": [
        {
          "output_type": "execute_result",
          "data": {
            "text/plain": [
              "array([[-1.2,  3. , -2.4],\n",
              "       [ 2.8,  1. , -1.4],\n",
              "       [ 1.8, -3. ,  4.6],\n",
              "       [-1.2, -2. ,  0.6],\n",
              "       [-2.2,  1. , -1.4]])"
            ]
          },
          "metadata": {
            "tags": []
          },
          "execution_count": 4
        }
      ]
    },
    {
      "cell_type": "markdown",
      "metadata": {
        "id": "kdHMUtIgMruz"
      },
      "source": [
        "### Calculate the covariance matrix\n",
        "**Note:** `n.cov` calculates the sample covariance by default. To calculate the population covariance, pass `bias = True` as an argument."
      ]
    },
    {
      "cell_type": "code",
      "metadata": {
        "colab": {
          "base_uri": "https://localhost:8080/"
        },
        "id": "44WfZfIXJRdI",
        "outputId": "0689cb43-2223-4700-a906-a6da231b4062"
      },
      "source": [
        "V = np.cov(C.T)\n",
        "V"
      ],
      "execution_count": 5,
      "outputs": [
        {
          "output_type": "execute_result",
          "data": {
            "text/plain": [
              "array([[ 4.7 , -1.5 ,  2.4 ],\n",
              "       [-1.5 ,  6.  , -6.25],\n",
              "       [ 2.4 , -6.25,  7.8 ]])"
            ]
          },
          "metadata": {
            "tags": []
          },
          "execution_count": 5
        }
      ]
    },
    {
      "cell_type": "markdown",
      "metadata": {
        "id": "f3V-99UdN6OD"
      },
      "source": [
        "### Calculate the eigen values and vectors of the covariance matrix using eigen decomposition\n",
        "- **Eigenvalues** denote the corresponding magnitude of eigenvectors\n",
        "- **Eigenvectors** denote the direction of vectors for the reduced subspace which are perpendicular to each other"
      ]
    },
    {
      "cell_type": "code",
      "metadata": {
        "colab": {
          "base_uri": "https://localhost:8080/"
        },
        "id": "D8b0qd8WKZlV",
        "outputId": "50ece369-ea3f-4c05-e9b0-90c5f26830ba"
      },
      "source": [
        "values, vectors = np.linalg.eig(V)\n",
        "print(f'Eigen values: \\n{values}\\n')\n",
        "print(f'Eigen vectors: \\n{vectors}')"
      ],
      "execution_count": 6,
      "outputs": [
        {
          "output_type": "stream",
          "text": [
            "Eigen values: \n",
            "[14.05177389  3.91663968  0.53158643]\n",
            "\n",
            "Eigen vectors: \n",
            "[[ 0.28685293 -0.95013989 -0.12226853]\n",
            " [-0.62018395 -0.28146319  0.73222288]\n",
            " [ 0.73012825  0.1342113   0.67000005]]\n"
          ],
          "name": "stdout"
        }
      ]
    },
    {
      "cell_type": "markdown",
      "metadata": {
        "id": "wqVYN7XQOT3d"
      },
      "source": [
        "### Transform the original data by taking a dot product of eigenvectors with the centered data\n",
        "\n",
        "**Note**: \n",
        "- To reduce the dimensionality of the data only a subset of eigenvectors corresponding to the highest eigenvalues are considered for transformation. For instance, if the data has to be transformed to 2 dimensions, only the 2 eigenvectors with the 2 highest eigenvalues should be used.\n",
        "- The sum of the eigenvalues of the eigenvectors used for transformation divided by the total sum of the eigenvalues gives the percentage of the variance explained by the data post transformation. If all eigenvectors are used, the explained variance is 100% and no information is lost even after transformation."
      ]
    },
    {
      "cell_type": "code",
      "metadata": {
        "colab": {
          "base_uri": "https://localhost:8080/"
        },
        "id": "wbOKNrTmLAbL",
        "outputId": "d3a6f9a6-9aa3-4ce9-b252-61565879821c"
      },
      "source": [
        "P = vectors.T.dot(C.T)\n",
        "P.T"
      ],
      "execution_count": 7,
      "outputs": [
        {
          "output_type": "execute_result",
          "data": {
            "text/plain": [
              "array([[-3.95708317, -0.0263288 ,  0.73539075],\n",
              "       [-0.8391753 , -3.12975068, -0.54812908],\n",
              "       [ 5.73547708, -0.24849028,  0.66524824],\n",
              "       [ 1.33422134,  1.78362101, -0.91572349],\n",
              "       [-2.27343995,  1.62094875,  0.06321358]])"
            ]
          },
          "metadata": {
            "tags": []
          },
          "execution_count": 7
        }
      ]
    },
    {
      "cell_type": "markdown",
      "metadata": {
        "id": "KO09RFZ6QQZR"
      },
      "source": [
        "## PCA using sklearn"
      ]
    },
    {
      "cell_type": "markdown",
      "metadata": {
        "id": "DuSHWDjYQS1A"
      },
      "source": [
        "### Create an instance of the `PCA` class and fit the data\n",
        "`PCA` takes a positive integer argument specifying the number of dimensions of the reduced subspace post transformation. This number should be equal to or less than the number of the dimensions of the data being used to fit the model."
      ]
    },
    {
      "cell_type": "code",
      "metadata": {
        "colab": {
          "base_uri": "https://localhost:8080/"
        },
        "id": "g5dlc6qZLF-V",
        "outputId": "ebfa4d3b-1ae1-4631-ecf5-c97e81549709"
      },
      "source": [
        "pca = PCA(3)\n",
        "pca.fit(A)\n",
        "pca"
      ],
      "execution_count": 8,
      "outputs": [
        {
          "output_type": "execute_result",
          "data": {
            "text/plain": [
              "PCA(copy=True, iterated_power='auto', n_components=3, random_state=None,\n",
              "    svd_solver='auto', tol=0.0, whiten=False)"
            ]
          },
          "metadata": {
            "tags": []
          },
          "execution_count": 8
        }
      ]
    },
    {
      "cell_type": "markdown",
      "metadata": {
        "id": "vdO11XUbQX6o"
      },
      "source": [
        "### Get the eigenvalues and eigenvectors of the data using the `explained_variance_` and `components_` attributes of the fitted model\n",
        "The eigenvalues and eigenvectors returned by the `PCA` object are ordered by eigenvalues in a descending order."
      ]
    },
    {
      "cell_type": "code",
      "metadata": {
        "colab": {
          "base_uri": "https://localhost:8080/"
        },
        "id": "bFoeQCU3Lvg1",
        "outputId": "e0c8c5e0-1b7b-449a-8f2a-c42122410caf"
      },
      "source": [
        "print(f'Eigen values: \\n{pca.explained_variance_}\\n')\n",
        "print(f'Eigen vectors: \\n{pca.components_}')"
      ],
      "execution_count": 9,
      "outputs": [
        {
          "output_type": "stream",
          "text": [
            "Eigen values: \n",
            "[14.05177389  3.91663968  0.53158643]\n",
            "\n",
            "Eigen vectors: \n",
            "[[ 0.28685293 -0.62018395  0.73012825]\n",
            " [ 0.95013989  0.28146319 -0.1342113 ]\n",
            " [ 0.12226853 -0.73222288 -0.67000005]]\n"
          ],
          "name": "stdout"
        }
      ]
    },
    {
      "cell_type": "markdown",
      "metadata": {
        "id": "CFNo7mLVQp15"
      },
      "source": [
        "### Use the `transform` method of the `PCA` objec to transform any data to the same reduced subspace"
      ]
    },
    {
      "cell_type": "code",
      "metadata": {
        "colab": {
          "base_uri": "https://localhost:8080/"
        },
        "id": "Bo_aLUIkLy4h",
        "outputId": "2f9321c7-8934-4883-9980-46c9bb6ae561"
      },
      "source": [
        "B = pca.transform(A)\n",
        "B"
      ],
      "execution_count": 10,
      "outputs": [
        {
          "output_type": "execute_result",
          "data": {
            "text/plain": [
              "array([[-3.95708317,  0.0263288 , -0.73539075],\n",
              "       [-0.8391753 ,  3.12975068,  0.54812908],\n",
              "       [ 5.73547708,  0.24849028, -0.66524824],\n",
              "       [ 1.33422134, -1.78362101,  0.91572349],\n",
              "       [-2.27343995, -1.62094875, -0.06321358]])"
            ]
          },
          "metadata": {
            "tags": []
          },
          "execution_count": 10
        }
      ]
    }
  ]
}