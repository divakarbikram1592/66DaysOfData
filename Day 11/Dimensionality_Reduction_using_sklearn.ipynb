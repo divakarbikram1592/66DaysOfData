{
  "nbformat": 4,
  "nbformat_minor": 0,
  "metadata": {
    "colab": {
      "name": "Dimensionality Reduction using sklearn.ipynb",
      "provenance": [],
      "collapsed_sections": [],
      "authorship_tag": "ABX9TyOlwqwabw6p32ZRvopsjjzW",
      "include_colab_link": true
    },
    "kernelspec": {
      "name": "python3",
      "display_name": "Python 3"
    },
    "language_info": {
      "name": "python"
    }
  },
  "cells": [
    {
      "cell_type": "markdown",
      "metadata": {
        "id": "view-in-github",
        "colab_type": "text"
      },
      "source": [
        "<a href=\"https://colab.research.google.com/github/mayur7garg/66DaysOfData/blob/main/Day%2011/Dimensionality_Reduction_using_sklearn.ipynb\" target=\"_parent\"><img src=\"https://colab.research.google.com/assets/colab-badge.svg\" alt=\"Open In Colab\"/></a>"
      ]
    },
    {
      "cell_type": "markdown",
      "metadata": {
        "id": "vzaFa5EyCCw-"
      },
      "source": [
        "# Dimensionality Reduction using sklearn"
      ]
    },
    {
      "cell_type": "markdown",
      "metadata": {
        "id": "nhTeY1SPA-H4"
      },
      "source": [
        "## Imports"
      ]
    },
    {
      "cell_type": "markdown",
      "metadata": {
        "id": "cYX0zh6vBNgC"
      },
      "source": [
        "### Installation"
      ]
    },
    {
      "cell_type": "code",
      "metadata": {
        "colab": {
          "base_uri": "https://localhost:8080/"
        },
        "id": "xo4uixFh6X9B",
        "outputId": "243fb4b8-dc19-42e8-a3ad-880912e7c00b"
      },
      "source": [
        "!pip install scikit-learn==0.24\n",
        "\n",
        "import sklearn\n",
        "print(f'\\nVersion: {sklearn.__version__}')"
      ],
      "execution_count": 1,
      "outputs": [
        {
          "output_type": "stream",
          "text": [
            "Requirement already satisfied: scikit-learn==0.24 in /usr/local/lib/python3.7/dist-packages (0.24.0)\n",
            "Requirement already satisfied: numpy>=1.13.3 in /usr/local/lib/python3.7/dist-packages (from scikit-learn==0.24) (1.19.5)\n",
            "Requirement already satisfied: joblib>=0.11 in /usr/local/lib/python3.7/dist-packages (from scikit-learn==0.24) (1.0.1)\n",
            "Requirement already satisfied: threadpoolctl>=2.0.0 in /usr/local/lib/python3.7/dist-packages (from scikit-learn==0.24) (2.2.0)\n",
            "Requirement already satisfied: scipy>=0.19.1 in /usr/local/lib/python3.7/dist-packages (from scikit-learn==0.24) (1.4.1)\n",
            "\n",
            "Version: 0.24.0\n"
          ],
          "name": "stdout"
        }
      ]
    },
    {
      "cell_type": "markdown",
      "metadata": {
        "id": "Z-IG5ZAYBjIw"
      },
      "source": [
        "### Importing necessary classes and modules"
      ]
    },
    {
      "cell_type": "code",
      "metadata": {
        "id": "h5_TfePs6UhU"
      },
      "source": [
        "import numpy as np\n",
        "from sklearn.datasets import make_classification\n",
        "from sklearn.model_selection import cross_val_score, RepeatedStratifiedKFold\n",
        "from sklearn.linear_model import LogisticRegression\n",
        "from sklearn.pipeline import Pipeline\n",
        "from sklearn.decomposition import PCA, TruncatedSVD\n",
        "from sklearn.discriminant_analysis import LinearDiscriminantAnalysis\n",
        "from sklearn.manifold import Isomap, LocallyLinearEmbedding"
      ],
      "execution_count": 2,
      "outputs": []
    },
    {
      "cell_type": "markdown",
      "metadata": {
        "id": "uEoGiiYoA_4Z"
      },
      "source": [
        "## Sample Data"
      ]
    },
    {
      "cell_type": "code",
      "metadata": {
        "colab": {
          "base_uri": "https://localhost:8080/"
        },
        "id": "yMzyzOOf6rte",
        "outputId": "65012ed7-5199-4630-c87e-838dc81634df"
      },
      "source": [
        "X, y = make_classification(n_samples = 1000, n_features = 20, n_informative = 10, n_redundant = 10, random_state = 7)\n",
        "X.shape, y.shape"
      ],
      "execution_count": 3,
      "outputs": [
        {
          "output_type": "execute_result",
          "data": {
            "text/plain": [
              "((1000, 20), (1000,))"
            ]
          },
          "metadata": {
            "tags": []
          },
          "execution_count": 3
        }
      ]
    },
    {
      "cell_type": "markdown",
      "metadata": {
        "id": "yvRK0yoFBC5i"
      },
      "source": [
        "## Train data utility method"
      ]
    },
    {
      "cell_type": "code",
      "metadata": {
        "id": "31D_WHPf9osh"
      },
      "source": [
        "def train_model(model, X, y):\n",
        "    cv = RepeatedStratifiedKFold(n_splits = 10, n_repeats = 3, random_state = 1)\n",
        "    n_scores = cross_val_score(model, X, y, scoring = 'accuracy', cv = cv, n_jobs = -1)\n",
        "    print(f'Accuracy:\\nMean: {np.mean(n_scores):.3}\\nStd Deviation {np.std(n_scores):.3}\\n')"
      ],
      "execution_count": 4,
      "outputs": []
    },
    {
      "cell_type": "markdown",
      "metadata": {
        "id": "gDOew2GEBHWg"
      },
      "source": [
        "## Models"
      ]
    },
    {
      "cell_type": "markdown",
      "metadata": {
        "id": "QH7jWfLqBnnl"
      },
      "source": [
        "### Baseline model using Logistic Regression"
      ]
    },
    {
      "cell_type": "code",
      "metadata": {
        "colab": {
          "base_uri": "https://localhost:8080/"
        },
        "id": "6CluZkl56yvX",
        "outputId": "8369217c-b4dd-4cc3-b33b-11c6b785bf48"
      },
      "source": [
        "model = LogisticRegression()\n",
        "model"
      ],
      "execution_count": 5,
      "outputs": [
        {
          "output_type": "execute_result",
          "data": {
            "text/plain": [
              "LogisticRegression()"
            ]
          },
          "metadata": {
            "tags": []
          },
          "execution_count": 5
        }
      ]
    },
    {
      "cell_type": "code",
      "metadata": {
        "colab": {
          "base_uri": "https://localhost:8080/"
        },
        "id": "uxIjmTOD93ot",
        "outputId": "09427a00-6411-448a-8794-68c6f759bdba"
      },
      "source": [
        "%%time\n",
        "train_model(model, X, y)"
      ],
      "execution_count": 6,
      "outputs": [
        {
          "output_type": "stream",
          "text": [
            "Accuracy:\n",
            "Mean: 0.824\n",
            "Std Deviation 0.0338\n",
            "\n",
            "CPU times: user 149 ms, sys: 44.1 ms, total: 193 ms\n",
            "Wall time: 1.94 s\n"
          ],
          "name": "stdout"
        }
      ]
    },
    {
      "cell_type": "markdown",
      "metadata": {
        "id": "14JKSoypBsMP"
      },
      "source": [
        "### Principal Component Analysis"
      ]
    },
    {
      "cell_type": "code",
      "metadata": {
        "colab": {
          "base_uri": "https://localhost:8080/"
        },
        "id": "lyu3YE4t8z8o",
        "outputId": "bb6e8478-0665-4525-aab2-001ee65b373e"
      },
      "source": [
        "model = Pipeline([('pca', PCA(n_components = 10)), ('logreg', LogisticRegression())])\n",
        "model"
      ],
      "execution_count": 7,
      "outputs": [
        {
          "output_type": "execute_result",
          "data": {
            "text/plain": [
              "Pipeline(steps=[('pca', PCA(n_components=10)),\n",
              "                ('logreg', LogisticRegression())])"
            ]
          },
          "metadata": {
            "tags": []
          },
          "execution_count": 7
        }
      ]
    },
    {
      "cell_type": "code",
      "metadata": {
        "colab": {
          "base_uri": "https://localhost:8080/"
        },
        "id": "C-sIKzBI9eqR",
        "outputId": "69ae29ab-3e3a-4b2a-f83c-761492c784b3"
      },
      "source": [
        "%%time\n",
        "train_model(model, X, y)"
      ],
      "execution_count": 8,
      "outputs": [
        {
          "output_type": "stream",
          "text": [
            "Accuracy:\n",
            "Mean: 0.824\n",
            "Std Deviation 0.0338\n",
            "\n",
            "CPU times: user 108 ms, sys: 6.05 ms, total: 114 ms\n",
            "Wall time: 413 ms\n"
          ],
          "name": "stdout"
        }
      ]
    },
    {
      "cell_type": "markdown",
      "metadata": {
        "id": "dnFkie5oBvfG"
      },
      "source": [
        "### Singular Value Decomposition"
      ]
    },
    {
      "cell_type": "code",
      "metadata": {
        "colab": {
          "base_uri": "https://localhost:8080/"
        },
        "id": "2qwdmACm-BTX",
        "outputId": "27ef555f-a41b-4f7d-e59d-e3919cce0e76"
      },
      "source": [
        "model = Pipeline([('svd', TruncatedSVD(n_components = 10)), ('logreg', LogisticRegression())])\n",
        "model"
      ],
      "execution_count": 9,
      "outputs": [
        {
          "output_type": "execute_result",
          "data": {
            "text/plain": [
              "Pipeline(steps=[('svd', TruncatedSVD(n_components=10)),\n",
              "                ('logreg', LogisticRegression())])"
            ]
          },
          "metadata": {
            "tags": []
          },
          "execution_count": 9
        }
      ]
    },
    {
      "cell_type": "code",
      "metadata": {
        "colab": {
          "base_uri": "https://localhost:8080/"
        },
        "id": "8SICQ-jI-L4I",
        "outputId": "5066a215-d251-4e51-8855-8df9787967ac"
      },
      "source": [
        "%%time\n",
        "train_model(model, X, y)"
      ],
      "execution_count": 10,
      "outputs": [
        {
          "output_type": "stream",
          "text": [
            "Accuracy:\n",
            "Mean: 0.824\n",
            "Std Deviation 0.0338\n",
            "\n",
            "CPU times: user 105 ms, sys: 9.64 ms, total: 115 ms\n",
            "Wall time: 424 ms\n"
          ],
          "name": "stdout"
        }
      ]
    },
    {
      "cell_type": "markdown",
      "metadata": {
        "id": "Lkihf-mAByWe"
      },
      "source": [
        "### Linear Discriminant Analysis"
      ]
    },
    {
      "cell_type": "code",
      "metadata": {
        "colab": {
          "base_uri": "https://localhost:8080/"
        },
        "id": "JKqjd7xb-Tfq",
        "outputId": "9e4f3de5-5636-46be-d835-d54cfda216cd"
      },
      "source": [
        "model = Pipeline([('lda', LinearDiscriminantAnalysis(n_components = 1)), ('logreg', LogisticRegression())])\n",
        "model"
      ],
      "execution_count": 11,
      "outputs": [
        {
          "output_type": "execute_result",
          "data": {
            "text/plain": [
              "Pipeline(steps=[('lda', LinearDiscriminantAnalysis(n_components=1)),\n",
              "                ('logreg', LogisticRegression())])"
            ]
          },
          "metadata": {
            "tags": []
          },
          "execution_count": 11
        }
      ]
    },
    {
      "cell_type": "code",
      "metadata": {
        "colab": {
          "base_uri": "https://localhost:8080/"
        },
        "id": "oju5c79X-jTe",
        "outputId": "5edbe37b-1198-4d09-829b-3b96da4bf750"
      },
      "source": [
        "%%time\n",
        "train_model(model, X, y)"
      ],
      "execution_count": 12,
      "outputs": [
        {
          "output_type": "stream",
          "text": [
            "Accuracy:\n",
            "Mean: 0.825\n",
            "Std Deviation 0.0341\n",
            "\n",
            "CPU times: user 107 ms, sys: 8.19 ms, total: 115 ms\n",
            "Wall time: 327 ms\n"
          ],
          "name": "stdout"
        }
      ]
    },
    {
      "cell_type": "markdown",
      "metadata": {
        "id": "_DsR1nt3B4uy"
      },
      "source": [
        "### Isomap Embedding"
      ]
    },
    {
      "cell_type": "code",
      "metadata": {
        "colab": {
          "base_uri": "https://localhost:8080/"
        },
        "id": "X-oKID0Y-lCG",
        "outputId": "3553085d-1397-4007-d8d6-177504edd35d"
      },
      "source": [
        "model = Pipeline([('iso', Isomap(n_components = 10)), ('logreg', LogisticRegression())])\n",
        "model"
      ],
      "execution_count": 13,
      "outputs": [
        {
          "output_type": "execute_result",
          "data": {
            "text/plain": [
              "Pipeline(steps=[('iso', Isomap(n_components=10)),\n",
              "                ('logreg', LogisticRegression())])"
            ]
          },
          "metadata": {
            "tags": []
          },
          "execution_count": 13
        }
      ]
    },
    {
      "cell_type": "code",
      "metadata": {
        "colab": {
          "base_uri": "https://localhost:8080/"
        },
        "id": "FTZE3-n6-wRt",
        "outputId": "fb83400a-cdc5-417c-a020-94b5c25c3d80"
      },
      "source": [
        "%%time\n",
        "train_model(model, X, y)"
      ],
      "execution_count": 14,
      "outputs": [
        {
          "output_type": "stream",
          "text": [
            "Accuracy:\n",
            "Mean: 0.888\n",
            "Std Deviation 0.0287\n",
            "\n",
            "CPU times: user 246 ms, sys: 13.1 ms, total: 260 ms\n",
            "Wall time: 10.9 s\n"
          ],
          "name": "stdout"
        }
      ]
    },
    {
      "cell_type": "markdown",
      "metadata": {
        "id": "Wb-4AI8HB760"
      },
      "source": [
        "### Locally Linear Embedding"
      ]
    },
    {
      "cell_type": "code",
      "metadata": {
        "colab": {
          "base_uri": "https://localhost:8080/"
        },
        "id": "tfdFO3zC-xgX",
        "outputId": "cb108337-03d7-4289-e0e5-075978d8fc89"
      },
      "source": [
        "model = Pipeline([('lle', LocallyLinearEmbedding(n_components = 10)), ('logreg', LogisticRegression())])\n",
        "model"
      ],
      "execution_count": 15,
      "outputs": [
        {
          "output_type": "execute_result",
          "data": {
            "text/plain": [
              "Pipeline(steps=[('lle', LocallyLinearEmbedding(n_components=10)),\n",
              "                ('logreg', LogisticRegression())])"
            ]
          },
          "metadata": {
            "tags": []
          },
          "execution_count": 15
        }
      ]
    },
    {
      "cell_type": "code",
      "metadata": {
        "colab": {
          "base_uri": "https://localhost:8080/"
        },
        "id": "7QP0CJS1_CHp",
        "outputId": "8d89ec13-1ccd-4922-877a-ad8c6ff510c1"
      },
      "source": [
        "%%time\n",
        "train_model(model, X, y)"
      ],
      "execution_count": 16,
      "outputs": [
        {
          "output_type": "stream",
          "text": [
            "Accuracy:\n",
            "Mean: 0.886\n",
            "Std Deviation 0.0284\n",
            "\n",
            "CPU times: user 210 ms, sys: 10.9 ms, total: 221 ms\n",
            "Wall time: 6.51 s\n"
          ],
          "name": "stdout"
        }
      ]
    },
    {
      "cell_type": "markdown",
      "metadata": {
        "id": "0IyT4HngB-wD"
      },
      "source": [
        "### Modified Locally Linear Embedding"
      ]
    },
    {
      "cell_type": "code",
      "metadata": {
        "colab": {
          "base_uri": "https://localhost:8080/"
        },
        "id": "NiBXw3Bd_EIQ",
        "outputId": "8a4a14fd-c9d4-4f8a-968e-951ed78f5a8f"
      },
      "source": [
        "model = Pipeline([('lle', LocallyLinearEmbedding(n_components = 5, method = 'modified', n_neighbors = 10)), ('logreg', LogisticRegression())])\n",
        "model"
      ],
      "execution_count": 17,
      "outputs": [
        {
          "output_type": "execute_result",
          "data": {
            "text/plain": [
              "Pipeline(steps=[('lle',\n",
              "                 LocallyLinearEmbedding(method='modified', n_components=5,\n",
              "                                        n_neighbors=10)),\n",
              "                ('logreg', LogisticRegression())])"
            ]
          },
          "metadata": {
            "tags": []
          },
          "execution_count": 17
        }
      ]
    },
    {
      "cell_type": "code",
      "metadata": {
        "colab": {
          "base_uri": "https://localhost:8080/"
        },
        "id": "CgETQW67_P1c",
        "outputId": "9a7e34e4-9004-4b88-995a-8be387e557c8"
      },
      "source": [
        "%%time\n",
        "train_model(model, X, y)"
      ],
      "execution_count": 18,
      "outputs": [
        {
          "output_type": "stream",
          "text": [
            "Accuracy:\n",
            "Mean: 0.848\n",
            "Std Deviation 0.0367\n",
            "\n",
            "CPU times: user 226 ms, sys: 21.6 ms, total: 248 ms\n",
            "Wall time: 10.9 s\n"
          ],
          "name": "stdout"
        }
      ]
    }
  ]
}