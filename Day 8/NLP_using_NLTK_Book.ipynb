{
  "nbformat": 4,
  "nbformat_minor": 0,
  "metadata": {
    "colab": {
      "name": "NLP using NLTK Book.ipynb",
      "provenance": [],
      "collapsed_sections": [],
      "authorship_tag": "ABX9TyNFydcF96ixu51xlQ3URrPT",
      "include_colab_link": true
    },
    "kernelspec": {
      "name": "python3",
      "display_name": "Python 3"
    },
    "language_info": {
      "name": "python"
    }
  },
  "cells": [
    {
      "cell_type": "markdown",
      "metadata": {
        "id": "view-in-github",
        "colab_type": "text"
      },
      "source": [
        "<a href=\"https://colab.research.google.com/github/mayur7garg/66DaysOfData/blob/main/Day%208/NLP_using_NLTK_Book.ipynb\" target=\"_parent\"><img src=\"https://colab.research.google.com/assets/colab-badge.svg\" alt=\"Open In Colab\"/></a>"
      ]
    },
    {
      "cell_type": "markdown",
      "metadata": {
        "id": "llTPQVddqh76"
      },
      "source": [
        "# Natural Language Processing using Python's NLTK module"
      ]
    },
    {
      "cell_type": "markdown",
      "metadata": {
        "id": "BwM-uSALqrc9"
      },
      "source": [
        "## Part 1 - NLTK Book Package"
      ]
    },
    {
      "cell_type": "markdown",
      "metadata": {
        "id": "YnaBcjY3q07F"
      },
      "source": [
        "### Import NLTK module"
      ]
    },
    {
      "cell_type": "code",
      "metadata": {
        "colab": {
          "base_uri": "https://localhost:8080/",
          "height": 35
        },
        "id": "8qWmWRpUgMaO",
        "outputId": "7d3eba56-9dff-4e0d-fbcc-8583c1c12981"
      },
      "source": [
        "import nltk\n",
        "nltk.__version__"
      ],
      "execution_count": 1,
      "outputs": [
        {
          "output_type": "execute_result",
          "data": {
            "application/vnd.google.colaboratory.intrinsic+json": {
              "type": "string"
            },
            "text/plain": [
              "'3.2.5'"
            ]
          },
          "metadata": {
            "tags": []
          },
          "execution_count": 1
        }
      ]
    },
    {
      "cell_type": "markdown",
      "metadata": {
        "id": "CPPtcIpeq_Wl"
      },
      "source": [
        "### Download the *book* package from NLTK"
      ]
    },
    {
      "cell_type": "code",
      "metadata": {
        "colab": {
          "base_uri": "https://localhost:8080/"
        },
        "id": "Na07gmDwgXaU",
        "outputId": "ed830682-47e0-41ef-d7b2-d11bf9c331fb"
      },
      "source": [
        "nltk.download('book')"
      ],
      "execution_count": 2,
      "outputs": [
        {
          "output_type": "stream",
          "text": [
            "[nltk_data] Downloading collection 'book'\n",
            "[nltk_data]    | \n",
            "[nltk_data]    | Downloading package abc to /root/nltk_data...\n",
            "[nltk_data]    |   Package abc is already up-to-date!\n",
            "[nltk_data]    | Downloading package brown to /root/nltk_data...\n",
            "[nltk_data]    |   Package brown is already up-to-date!\n",
            "[nltk_data]    | Downloading package chat80 to /root/nltk_data...\n",
            "[nltk_data]    |   Package chat80 is already up-to-date!\n",
            "[nltk_data]    | Downloading package cmudict to /root/nltk_data...\n",
            "[nltk_data]    |   Package cmudict is already up-to-date!\n",
            "[nltk_data]    | Downloading package conll2000 to /root/nltk_data...\n",
            "[nltk_data]    |   Package conll2000 is already up-to-date!\n",
            "[nltk_data]    | Downloading package conll2002 to /root/nltk_data...\n",
            "[nltk_data]    |   Package conll2002 is already up-to-date!\n",
            "[nltk_data]    | Downloading package dependency_treebank to\n",
            "[nltk_data]    |     /root/nltk_data...\n",
            "[nltk_data]    |   Package dependency_treebank is already up-to-date!\n",
            "[nltk_data]    | Downloading package genesis to /root/nltk_data...\n",
            "[nltk_data]    |   Package genesis is already up-to-date!\n",
            "[nltk_data]    | Downloading package gutenberg to /root/nltk_data...\n",
            "[nltk_data]    |   Package gutenberg is already up-to-date!\n",
            "[nltk_data]    | Downloading package ieer to /root/nltk_data...\n",
            "[nltk_data]    |   Package ieer is already up-to-date!\n",
            "[nltk_data]    | Downloading package inaugural to /root/nltk_data...\n",
            "[nltk_data]    |   Package inaugural is already up-to-date!\n",
            "[nltk_data]    | Downloading package movie_reviews to\n",
            "[nltk_data]    |     /root/nltk_data...\n",
            "[nltk_data]    |   Package movie_reviews is already up-to-date!\n",
            "[nltk_data]    | Downloading package nps_chat to /root/nltk_data...\n",
            "[nltk_data]    |   Package nps_chat is already up-to-date!\n",
            "[nltk_data]    | Downloading package names to /root/nltk_data...\n",
            "[nltk_data]    |   Package names is already up-to-date!\n",
            "[nltk_data]    | Downloading package ppattach to /root/nltk_data...\n",
            "[nltk_data]    |   Package ppattach is already up-to-date!\n",
            "[nltk_data]    | Downloading package reuters to /root/nltk_data...\n",
            "[nltk_data]    |   Package reuters is already up-to-date!\n",
            "[nltk_data]    | Downloading package senseval to /root/nltk_data...\n",
            "[nltk_data]    |   Package senseval is already up-to-date!\n",
            "[nltk_data]    | Downloading package state_union to /root/nltk_data...\n",
            "[nltk_data]    |   Package state_union is already up-to-date!\n",
            "[nltk_data]    | Downloading package stopwords to /root/nltk_data...\n",
            "[nltk_data]    |   Package stopwords is already up-to-date!\n",
            "[nltk_data]    | Downloading package swadesh to /root/nltk_data...\n",
            "[nltk_data]    |   Package swadesh is already up-to-date!\n",
            "[nltk_data]    | Downloading package timit to /root/nltk_data...\n",
            "[nltk_data]    |   Package timit is already up-to-date!\n",
            "[nltk_data]    | Downloading package treebank to /root/nltk_data...\n",
            "[nltk_data]    |   Package treebank is already up-to-date!\n",
            "[nltk_data]    | Downloading package toolbox to /root/nltk_data...\n",
            "[nltk_data]    |   Package toolbox is already up-to-date!\n",
            "[nltk_data]    | Downloading package udhr to /root/nltk_data...\n",
            "[nltk_data]    |   Package udhr is already up-to-date!\n",
            "[nltk_data]    | Downloading package udhr2 to /root/nltk_data...\n",
            "[nltk_data]    |   Package udhr2 is already up-to-date!\n",
            "[nltk_data]    | Downloading package unicode_samples to\n",
            "[nltk_data]    |     /root/nltk_data...\n",
            "[nltk_data]    |   Package unicode_samples is already up-to-date!\n",
            "[nltk_data]    | Downloading package webtext to /root/nltk_data...\n",
            "[nltk_data]    |   Package webtext is already up-to-date!\n",
            "[nltk_data]    | Downloading package wordnet to /root/nltk_data...\n",
            "[nltk_data]    |   Package wordnet is already up-to-date!\n",
            "[nltk_data]    | Downloading package wordnet_ic to /root/nltk_data...\n",
            "[nltk_data]    |   Package wordnet_ic is already up-to-date!\n",
            "[nltk_data]    | Downloading package words to /root/nltk_data...\n",
            "[nltk_data]    |   Package words is already up-to-date!\n",
            "[nltk_data]    | Downloading package maxent_treebank_pos_tagger to\n",
            "[nltk_data]    |     /root/nltk_data...\n",
            "[nltk_data]    |   Package maxent_treebank_pos_tagger is already up-\n",
            "[nltk_data]    |       to-date!\n",
            "[nltk_data]    | Downloading package maxent_ne_chunker to\n",
            "[nltk_data]    |     /root/nltk_data...\n",
            "[nltk_data]    |   Package maxent_ne_chunker is already up-to-date!\n",
            "[nltk_data]    | Downloading package universal_tagset to\n",
            "[nltk_data]    |     /root/nltk_data...\n",
            "[nltk_data]    |   Package universal_tagset is already up-to-date!\n",
            "[nltk_data]    | Downloading package punkt to /root/nltk_data...\n",
            "[nltk_data]    |   Package punkt is already up-to-date!\n",
            "[nltk_data]    | Downloading package book_grammars to\n",
            "[nltk_data]    |     /root/nltk_data...\n",
            "[nltk_data]    |   Package book_grammars is already up-to-date!\n",
            "[nltk_data]    | Downloading package city_database to\n",
            "[nltk_data]    |     /root/nltk_data...\n",
            "[nltk_data]    |   Package city_database is already up-to-date!\n",
            "[nltk_data]    | Downloading package tagsets to /root/nltk_data...\n",
            "[nltk_data]    |   Package tagsets is already up-to-date!\n",
            "[nltk_data]    | Downloading package panlex_swadesh to\n",
            "[nltk_data]    |     /root/nltk_data...\n",
            "[nltk_data]    |   Package panlex_swadesh is already up-to-date!\n",
            "[nltk_data]    | Downloading package averaged_perceptron_tagger to\n",
            "[nltk_data]    |     /root/nltk_data...\n",
            "[nltk_data]    |   Package averaged_perceptron_tagger is already up-\n",
            "[nltk_data]    |       to-date!\n",
            "[nltk_data]    | \n",
            "[nltk_data]  Done downloading collection book\n"
          ],
          "name": "stdout"
        },
        {
          "output_type": "execute_result",
          "data": {
            "text/plain": [
              "True"
            ]
          },
          "metadata": {
            "tags": []
          },
          "execution_count": 2
        }
      ]
    },
    {
      "cell_type": "markdown",
      "metadata": {
        "id": "reNBBbR3rKVb"
      },
      "source": [
        "### Import the necessary objects from the book package"
      ]
    },
    {
      "cell_type": "code",
      "metadata": {
        "colab": {
          "base_uri": "https://localhost:8080/"
        },
        "id": "aq7dCil2gqN6",
        "outputId": "bee90f35-c36d-47ef-c2be-068c391428eb"
      },
      "source": [
        "from nltk.book import text1, text2, text3, text4, sent1, sent2, FreqDist, bigrams, Text"
      ],
      "execution_count": 3,
      "outputs": [
        {
          "output_type": "stream",
          "text": [
            "*** Introductory Examples for the NLTK Book ***\n",
            "Loading text1, ..., text9 and sent1, ..., sent9\n",
            "Type the name of the text or sentence to view it.\n",
            "Type: 'texts()' or 'sents()' to list the materials.\n",
            "text1: Moby Dick by Herman Melville 1851\n",
            "text2: Sense and Sensibility by Jane Austen 1811\n",
            "text3: The Book of Genesis\n",
            "text4: Inaugural Address Corpus\n",
            "text5: Chat Corpus\n",
            "text6: Monty Python and the Holy Grail\n",
            "text7: Wall Street Journal\n",
            "text8: Personals Corpus\n",
            "text9: The Man Who Was Thursday by G . K . Chesterton 1908\n"
          ],
          "name": "stdout"
        }
      ]
    },
    {
      "cell_type": "markdown",
      "metadata": {
        "id": "tLEOIrM5rZ_u"
      },
      "source": [
        "### Text objects"
      ]
    },
    {
      "cell_type": "markdown",
      "metadata": {
        "id": "mRX30o_grRYF"
      },
      "source": [
        "#### *text1*, *text2* and so on contain sample Text objects which are essentially a list of words"
      ]
    },
    {
      "cell_type": "code",
      "metadata": {
        "colab": {
          "base_uri": "https://localhost:8080/"
        },
        "id": "tXl1V_Q-g_sl",
        "outputId": "cab5cff8-5b5e-4efe-a5a9-b7e57d1362ad"
      },
      "source": [
        "text1, text2, text3, text4"
      ],
      "execution_count": 4,
      "outputs": [
        {
          "output_type": "execute_result",
          "data": {
            "text/plain": [
              "(<Text: Moby Dick by Herman Melville 1851>,\n",
              " <Text: Sense and Sensibility by Jane Austen 1811>,\n",
              " <Text: The Book of Genesis>,\n",
              " <Text: Inaugural Address Corpus>)"
            ]
          },
          "metadata": {
            "tags": []
          },
          "execution_count": 4
        }
      ]
    },
    {
      "cell_type": "markdown",
      "metadata": {
        "id": "bTTantmrr1I2"
      },
      "source": [
        "#### *concordance* method allows you to look at the occurences of a particular word in the text with relevant context"
      ]
    },
    {
      "cell_type": "code",
      "metadata": {
        "colab": {
          "base_uri": "https://localhost:8080/"
        },
        "id": "qUB2oqochAib",
        "outputId": "52f178a6-91b4-48f8-b96a-fd05e735dfb3"
      },
      "source": [
        "text1.concordance(\"monstrous\", width = 128, lines = 10)"
      ],
      "execution_count": 5,
      "outputs": [
        {
          "output_type": "stream",
          "text": [
            "Displaying 10 of 11 matches:\n",
            " the sea , appeared . Among the former , one was of a most monstrous size . ... This came towards us , open - mouthed , raising\n",
            " -- LORD BACON ' S VERSION OF THE PSALMS . \" Touching that monstrous bulk of the whale or ork we have received nothing certain \n",
            "of this entry was hung all over with a heathenish array of monstrous clubs and spears . Some were thickly set with glittering t\n",
            "med mower . You shuddered as you gazed , and wondered what monstrous cannibal and savage could ever have gone a death - harvest\n",
            "mightiest animated mass that has survived the flood ; most monstrous and most mountainous ! That Himmalehan , salt - sea Mastod\n",
            "wise , of the fishery , they might scout at Moby Dick as a monstrous fable , or still worse and more detestable , a hideous and\n",
            " Steelkilt since the death of Radney .'\" CHAPTER 55 Of the Monstrous Pictures of Whales . I shall ere long paint to you as well\n",
            "he True Pictures of Whaling Scenes . In connexion with the monstrous pictures of whales , I am strongly tempted here to enter u\n",
            " I am strongly tempted here to enter upon those still more monstrous stories of them which are to be found in certain books , b\n",
            " . What other marvels might have been rummaged out of this monstrous cabinet there is no telling . But a sudden stop was put to\n"
          ],
          "name": "stdout"
        }
      ]
    },
    {
      "cell_type": "markdown",
      "metadata": {
        "id": "eM-7QOhpsE7D"
      },
      "source": [
        "#### *similar* allows us to find words used in a similar context as the input word"
      ]
    },
    {
      "cell_type": "code",
      "metadata": {
        "colab": {
          "base_uri": "https://localhost:8080/"
        },
        "id": "sjgzTAVjhKX1",
        "outputId": "79f78555-8f44-481c-e3f8-b58a3cb04249"
      },
      "source": [
        "text1.similar(\"monstrous\", num = 25)"
      ],
      "execution_count": 6,
      "outputs": [
        {
          "output_type": "stream",
          "text": [
            "true contemptible christian abundant few part mean careful puzzled\n",
            "mystifying passing curious loving wise doleful gamesome singular\n",
            "delightfully perilous fearless determined uncommon lazy imperial\n",
            "reliable\n"
          ],
          "name": "stdout"
        }
      ]
    },
    {
      "cell_type": "code",
      "metadata": {
        "colab": {
          "base_uri": "https://localhost:8080/"
        },
        "id": "mkeGwj2Xhe68",
        "outputId": "ae297797-aa8c-4b00-d527-09fd0f1b352d"
      },
      "source": [
        "text2.similar(\"monstrous\")"
      ],
      "execution_count": 7,
      "outputs": [
        {
          "output_type": "stream",
          "text": [
            "very so exceedingly heartily a as good great extremely remarkably\n",
            "sweet vast amazingly\n"
          ],
          "name": "stdout"
        }
      ]
    },
    {
      "cell_type": "code",
      "metadata": {
        "colab": {
          "base_uri": "https://localhost:8080/"
        },
        "id": "_r2WeItGh24d",
        "outputId": "9d283f7f-a0ea-4c65-ab1e-563afc541102"
      },
      "source": [
        "text2.similar(\"very\")"
      ],
      "execution_count": 8,
      "outputs": [
        {
          "output_type": "stream",
          "text": [
            "so as too a not monstrous the was more most how last exceedingly her\n",
            "it only first will perfectly cottage\n"
          ],
          "name": "stdout"
        }
      ]
    },
    {
      "cell_type": "markdown",
      "metadata": {
        "id": "AdlIF_xfsOZL"
      },
      "source": [
        "#### *common_contexts* allows us to see the contexts shared by the words passed to it as a list"
      ]
    },
    {
      "cell_type": "code",
      "metadata": {
        "colab": {
          "base_uri": "https://localhost:8080/"
        },
        "id": "n_ni6v6yhrWQ",
        "outputId": "8aa3b19a-a54a-4435-b2eb-56692b1a72bf"
      },
      "source": [
        "text2.common_contexts([\"monstrous\", \"very\"])"
      ],
      "execution_count": 9,
      "outputs": [
        {
          "output_type": "stream",
          "text": [
            "a_pretty am_glad a_lucky is_pretty be_glad\n"
          ],
          "name": "stdout"
        }
      ]
    },
    {
      "cell_type": "markdown",
      "metadata": {
        "id": "5gVWz7tJsUuB"
      },
      "source": [
        "#### *dispersion_plot* allows us to graphically see the occurences of the given words with respect to where they occur in the text"
      ]
    },
    {
      "cell_type": "code",
      "metadata": {
        "colab": {
          "base_uri": "https://localhost:8080/",
          "height": 295
        },
        "id": "DsZwLGP0h55P",
        "outputId": "93917b7a-9e92-441d-f828-18d45a774adb"
      },
      "source": [
        " text4.dispersion_plot([\"citizens\", \"democracy\", \"freedom\", \"duties\", \"America\"])"
      ],
      "execution_count": 10,
      "outputs": [
        {
          "output_type": "display_data",
          "data": {
            "image/png": "[encoded data removed]",
            "text/plain": [
              "<Figure size 432x288 with 1 Axes>"
            ]
          },
          "metadata": {
            "tags": [],
            "needs_background": "light"
          }
        }
      ]
    },
    {
      "cell_type": "markdown",
      "metadata": {
        "id": "lUwkjdJJs1xu"
      },
      "source": [
        "#### Creating a *Text* object using our own list of words"
      ]
    },
    {
      "cell_type": "code",
      "metadata": {
        "colab": {
          "base_uri": "https://localhost:8080/"
        },
        "id": "GKIxuzyOsuPE",
        "outputId": "53182775-fe9b-4c3b-912a-dbaafb6db7ee"
      },
      "source": [
        "my_sentence = Text(['Welcome', 'to', '66', 'days', 'of', 'data', 'by', 'Mayur', 'Garg'])\n",
        "my_sentence"
      ],
      "execution_count": 11,
      "outputs": [
        {
          "output_type": "execute_result",
          "data": {
            "text/plain": [
              "<Text: Welcome to 66 days of data by Mayur...>"
            ]
          },
          "metadata": {
            "tags": []
          },
          "execution_count": 11
        }
      ]
    },
    {
      "cell_type": "markdown",
      "metadata": {
        "id": "x1FPg__Os-nL"
      },
      "source": [
        "#### *Text* object operations"
      ]
    },
    {
      "cell_type": "code",
      "metadata": {
        "colab": {
          "base_uri": "https://localhost:8080/"
        },
        "id": "Iqnws-b8i77P",
        "outputId": "4733080f-5a07-4874-ee74-b89bc5c5c412"
      },
      "source": [
        "len(text3)"
      ],
      "execution_count": 12,
      "outputs": [
        {
          "output_type": "execute_result",
          "data": {
            "text/plain": [
              "44764"
            ]
          },
          "metadata": {
            "tags": []
          },
          "execution_count": 12
        }
      ]
    },
    {
      "cell_type": "code",
      "metadata": {
        "colab": {
          "base_uri": "https://localhost:8080/"
        },
        "id": "rSNSFHKBiZha",
        "outputId": "e2fec23b-6c46-4907-e427-c86740b21609"
      },
      "source": [
        "text3_tokens = set(text3)\n",
        "len(text3_tokens)"
      ],
      "execution_count": 13,
      "outputs": [
        {
          "output_type": "execute_result",
          "data": {
            "text/plain": [
              "2789"
            ]
          },
          "metadata": {
            "tags": []
          },
          "execution_count": 13
        }
      ]
    },
    {
      "cell_type": "code",
      "metadata": {
        "colab": {
          "base_uri": "https://localhost:8080/"
        },
        "id": "CakWbbMhjM3V",
        "outputId": "1791d8de-4ca8-4942-f03b-b50e9fce09a7"
      },
      "source": [
        "sorted(text3_tokens)[::100]"
      ],
      "execution_count": 14,
      "outputs": [
        {
          "output_type": "execute_result",
          "data": {
            "text/plain": [
              "['!',\n",
              " 'Benjamin',\n",
              " 'Ephrath',\n",
              " 'Huppim',\n",
              " 'Machpelah',\n",
              " 'Phut',\n",
              " 'Tell',\n",
              " 'afraid',\n",
              " 'beari',\n",
              " 'bring',\n",
              " 'colours',\n",
              " 'declare',\n",
              " 'ear',\n",
              " 'fed',\n",
              " 'fruitful',\n",
              " 'hanged',\n",
              " 'images',\n",
              " 'laws',\n",
              " 'men',\n",
              " 'nostrils',\n",
              " 'pitch',\n",
              " 'rebuked',\n",
              " 'sat',\n",
              " 'silver',\n",
              " 'still',\n",
              " 'thirteen',\n",
              " 'us',\n",
              " 'whom']"
            ]
          },
          "metadata": {
            "tags": []
          },
          "execution_count": 14
        }
      ]
    },
    {
      "cell_type": "code",
      "metadata": {
        "colab": {
          "base_uri": "https://localhost:8080/"
        },
        "id": "nq54Twf9mRMi",
        "outputId": "2dc58590-34a6-4bd7-ab35-98c6e3893095"
      },
      "source": [
        "text4.index('awaken')"
      ],
      "execution_count": 15,
      "outputs": [
        {
          "output_type": "execute_result",
          "data": {
            "text/plain": [
              "173"
            ]
          },
          "metadata": {
            "tags": []
          },
          "execution_count": 15
        }
      ]
    },
    {
      "cell_type": "code",
      "metadata": {
        "colab": {
          "base_uri": "https://localhost:8080/"
        },
        "id": "kzapR6cumXDX",
        "outputId": "ab151cc3-88dd-4379-87b3-b2852233d4a5"
      },
      "source": [
        "text4[10:16]"
      ],
      "execution_count": 16,
      "outputs": [
        {
          "output_type": "execute_result",
          "data": {
            "text/plain": [
              "['of', 'Representatives', ':', 'Among', 'the', 'vicissitudes']"
            ]
          },
          "metadata": {
            "tags": []
          },
          "execution_count": 16
        }
      ]
    },
    {
      "cell_type": "code",
      "metadata": {
        "colab": {
          "base_uri": "https://localhost:8080/"
        },
        "id": "NGXU3zXzjklZ",
        "outputId": "54dfc489-7baa-4323-bacc-e7a4094e01e6"
      },
      "source": [
        "text3.count(\"smote\")"
      ],
      "execution_count": 17,
      "outputs": [
        {
          "output_type": "execute_result",
          "data": {
            "text/plain": [
              "5"
            ]
          },
          "metadata": {
            "tags": []
          },
          "execution_count": 17
        }
      ]
    },
    {
      "cell_type": "code",
      "metadata": {
        "colab": {
          "base_uri": "https://localhost:8080/"
        },
        "id": "nfOxUO-FjsPi",
        "outputId": "7478b1cb-4ee3-48c7-caf1-cdc18a21b8da"
      },
      "source": [
        "text4.count('a') / len(text4)"
      ],
      "execution_count": 18,
      "outputs": [
        {
          "output_type": "execute_result",
          "data": {
            "text/plain": [
              "0.01457973123627309"
            ]
          },
          "metadata": {
            "tags": []
          },
          "execution_count": 18
        }
      ]
    },
    {
      "cell_type": "markdown",
      "metadata": {
        "id": "N4TKPazMjf87"
      },
      "source": [
        "### Lexical richness/diversity\n",
        "It is the percentage of unique words with respect to the total number of words that appear in the *Text* object or a list of words"
      ]
    },
    {
      "cell_type": "code",
      "metadata": {
        "id": "44x0grWSj3xU"
      },
      "source": [
        "def lexical_diversity_pct(text):\n",
        "    return (100 * len(set(text))) / len(text)"
      ],
      "execution_count": 19,
      "outputs": []
    },
    {
      "cell_type": "code",
      "metadata": {
        "colab": {
          "base_uri": "https://localhost:8080/"
        },
        "id": "kTp_kijEjUah",
        "outputId": "17479939-fe56-42bb-fda8-bb280f6cc215"
      },
      "source": [
        "lexical_diversity_pct(text1), lexical_diversity_pct(text2), lexical_diversity_pct(text3), lexical_diversity_pct(text4)"
      ],
      "execution_count": 20,
      "outputs": [
        {
          "output_type": "execute_result",
          "data": {
            "text/plain": [
              "(7.406285585022563, 4.826383002768831, 6.2304530426235365, 6.617622515804722)"
            ]
          },
          "metadata": {
            "tags": []
          },
          "execution_count": 20
        }
      ]
    },
    {
      "cell_type": "code",
      "metadata": {
        "colab": {
          "base_uri": "https://localhost:8080/"
        },
        "id": "ZQL8zZoejxUf",
        "outputId": "c7d8340f-db9f-4c69-e03e-6c775d534a3f"
      },
      "source": [
        "lexical_diversity_pct(my_sentence)"
      ],
      "execution_count": 21,
      "outputs": [
        {
          "output_type": "execute_result",
          "data": {
            "text/plain": [
              "100.0"
            ]
          },
          "metadata": {
            "tags": []
          },
          "execution_count": 21
        }
      ]
    },
    {
      "cell_type": "code",
      "metadata": {
        "colab": {
          "base_uri": "https://localhost:8080/"
        },
        "id": "LP3MObnIlwEi",
        "outputId": "b20fc0c2-23c2-4075-be7e-6a62cbaec298"
      },
      "source": [
        "sent1"
      ],
      "execution_count": 22,
      "outputs": [
        {
          "output_type": "execute_result",
          "data": {
            "text/plain": [
              "['Call', 'me', 'Ishmael', '.']"
            ]
          },
          "metadata": {
            "tags": []
          },
          "execution_count": 22
        }
      ]
    },
    {
      "cell_type": "code",
      "metadata": {
        "colab": {
          "base_uri": "https://localhost:8080/"
        },
        "id": "Qbbp3ROUl9MF",
        "outputId": "0caef9cf-091d-4261-cf86-b7562b7a6519"
      },
      "source": [
        "sent2"
      ],
      "execution_count": 23,
      "outputs": [
        {
          "output_type": "execute_result",
          "data": {
            "text/plain": [
              "['The',\n",
              " 'family',\n",
              " 'of',\n",
              " 'Dashwood',\n",
              " 'had',\n",
              " 'long',\n",
              " 'been',\n",
              " 'settled',\n",
              " 'in',\n",
              " 'Sussex',\n",
              " '.']"
            ]
          },
          "metadata": {
            "tags": []
          },
          "execution_count": 23
        }
      ]
    },
    {
      "cell_type": "code",
      "metadata": {
        "colab": {
          "base_uri": "https://localhost:8080/"
        },
        "id": "UgbPEUh6l_qk",
        "outputId": "26312613-e768-4d71-8430-16ead0ee4317"
      },
      "source": [
        "lexical_diversity_pct(sent1), lexical_diversity_pct(sent2)"
      ],
      "execution_count": 24,
      "outputs": [
        {
          "output_type": "execute_result",
          "data": {
            "text/plain": [
              "(100.0, 100.0)"
            ]
          },
          "metadata": {
            "tags": []
          },
          "execution_count": 24
        }
      ]
    },
    {
      "cell_type": "markdown",
      "metadata": {
        "id": "grhzGSxhtsqB"
      },
      "source": [
        "### Frequency Distribution\n",
        "We can calculate the frequency distribution of any *Text* object or a list of words by creating a *FreqDist* object"
      ]
    },
    {
      "cell_type": "markdown",
      "metadata": {
        "id": "foaOLV-GuGuJ"
      },
      "source": [
        "#### Get most common 'n' words"
      ]
    },
    {
      "cell_type": "code",
      "metadata": {
        "colab": {
          "base_uri": "https://localhost:8080/"
        },
        "id": "fTrfzuYxmJOa",
        "outputId": "8e2c4d7d-9335-4673-8bc3-e3fa0bdcf39d"
      },
      "source": [
        "freq_text1 = FreqDist(text1)\n",
        "freq_text1.most_common(10)"
      ],
      "execution_count": 25,
      "outputs": [
        {
          "output_type": "execute_result",
          "data": {
            "text/plain": [
              "[(',', 18713),\n",
              " ('the', 13721),\n",
              " ('.', 6862),\n",
              " ('of', 6536),\n",
              " ('and', 6024),\n",
              " ('a', 4569),\n",
              " ('to', 4542),\n",
              " (';', 4072),\n",
              " ('in', 3916),\n",
              " ('that', 2982)]"
            ]
          },
          "metadata": {
            "tags": []
          },
          "execution_count": 25
        }
      ]
    },
    {
      "cell_type": "markdown",
      "metadata": {
        "id": "IbysEX1_uKrd"
      },
      "source": [
        "#### Get frequency count of a particular word"
      ]
    },
    {
      "cell_type": "code",
      "metadata": {
        "colab": {
          "base_uri": "https://localhost:8080/"
        },
        "id": "p1GWHbZ0m0yU",
        "outputId": "890d2bcd-9fed-48c2-a602-361e08c093dc"
      },
      "source": [
        "freq_text1['monstrous']"
      ],
      "execution_count": 26,
      "outputs": [
        {
          "output_type": "execute_result",
          "data": {
            "text/plain": [
              "10"
            ]
          },
          "metadata": {
            "tags": []
          },
          "execution_count": 26
        }
      ]
    },
    {
      "cell_type": "markdown",
      "metadata": {
        "id": "2VymHfdxuOP7"
      },
      "source": [
        "#### Get the ratio of a particular word with respect to the total number of words in the text"
      ]
    },
    {
      "cell_type": "code",
      "metadata": {
        "colab": {
          "base_uri": "https://localhost:8080/"
        },
        "id": "eBBwViJpoAUS",
        "outputId": "865a5289-5925-4a19-a303-c381d61f3ac2"
      },
      "source": [
        "freq_text1.freq('the')"
      ],
      "execution_count": 27,
      "outputs": [
        {
          "output_type": "execute_result",
          "data": {
            "text/plain": [
              "0.052607363727335814"
            ]
          },
          "metadata": {
            "tags": []
          },
          "execution_count": 27
        }
      ]
    },
    {
      "cell_type": "markdown",
      "metadata": {
        "id": "-AIfi_1nuVb2"
      },
      "source": [
        "#### Get total frequency"
      ]
    },
    {
      "cell_type": "code",
      "metadata": {
        "colab": {
          "base_uri": "https://localhost:8080/"
        },
        "id": "L_hAO7JJoYf5",
        "outputId": "11486842-a529-472e-e4b1-a093a1af49a0"
      },
      "source": [
        "freq_text1.N()"
      ],
      "execution_count": 28,
      "outputs": [
        {
          "output_type": "execute_result",
          "data": {
            "text/plain": [
              "260819"
            ]
          },
          "metadata": {
            "tags": []
          },
          "execution_count": 28
        }
      ]
    },
    {
      "cell_type": "markdown",
      "metadata": {
        "id": "ZwBrTM6fuYBj"
      },
      "source": [
        "#### Frequency Distribution plots"
      ]
    },
    {
      "cell_type": "code",
      "metadata": {
        "colab": {
          "base_uri": "https://localhost:8080/",
          "height": 290
        },
        "id": "i9DoTeqYpMkS",
        "outputId": "9eb6a092-433f-4818-e663-ae2d19c3d0d9"
      },
      "source": [
        "freq_text1.plot(16)"
      ],
      "execution_count": 29,
      "outputs": [
        {
          "output_type": "display_data",
          "data": {
            "image/png": "[encoded data removed]",
            "text/plain": [
              "<Figure size 432x288 with 1 Axes>"
            ]
          },
          "metadata": {
            "tags": [],
            "needs_background": "light"
          }
        }
      ]
    },
    {
      "cell_type": "markdown",
      "metadata": {
        "id": "AwOg9ESyueRr"
      },
      "source": [
        "#### Cumulative Frequecy Distribution plot"
      ]
    },
    {
      "cell_type": "code",
      "metadata": {
        "colab": {
          "base_uri": "https://localhost:8080/",
          "height": 307
        },
        "id": "acB9R57XodrR",
        "outputId": "ec8ee0b8-2efa-4ec0-a144-dc5c0743d8a1"
      },
      "source": [
        "freq_text1.plot(32, title = 'Cumulative Frequency Distribution', cumulative = True)"
      ],
      "execution_count": 30,
      "outputs": [
        {
          "output_type": "display_data",
          "data": {
            "image/png": "[encoded data removed]",
            "text/plain": [
              "<Figure size 432x288 with 1 Axes>"
            ]
          },
          "metadata": {
            "tags": [],
            "needs_background": "light"
          }
        }
      ]
    },
    {
      "cell_type": "markdown",
      "metadata": {
        "id": "Hi-NziAivJbZ"
      },
      "source": [
        "### Bigrams\n",
        "Get bigrams for any *Text* object or list of words using the *bigrams* method"
      ]
    },
    {
      "cell_type": "code",
      "metadata": {
        "colab": {
          "base_uri": "https://localhost:8080/"
        },
        "id": "-zd5G1QQnAHV",
        "outputId": "cf32807b-1d24-4e01-adb7-3fce6bbf3cfa"
      },
      "source": [
        "list(bigrams(my_sentence))"
      ],
      "execution_count": 31,
      "outputs": [
        {
          "output_type": "execute_result",
          "data": {
            "text/plain": [
              "[('Welcome', 'to'),\n",
              " ('to', '66'),\n",
              " ('66', 'days'),\n",
              " ('days', 'of'),\n",
              " ('of', 'data'),\n",
              " ('data', 'by'),\n",
              " ('by', 'Mayur'),\n",
              " ('Mayur', 'Garg')]"
            ]
          },
          "metadata": {
            "tags": []
          },
          "execution_count": 31
        }
      ]
    },
    {
      "cell_type": "markdown",
      "metadata": {
        "id": "9mzD3BjjvvDt"
      },
      "source": [
        "### Collocations\n",
        "Get list of words that often go together ignoring the stopwords"
      ]
    },
    {
      "cell_type": "code",
      "metadata": {
        "colab": {
          "base_uri": "https://localhost:8080/"
        },
        "id": "BqYAl6qonQIk",
        "outputId": "fcb308c2-35bd-42bf-f63e-875369dc5fcc"
      },
      "source": [
        "text4.collocations(num = 10)"
      ],
      "execution_count": 32,
      "outputs": [
        {
          "output_type": "stream",
          "text": [
            "United States; fellow citizens; four years; years ago; Federal\n",
            "Government; General Government; American people; Vice President; God\n",
            "bless; Chief Justice\n"
          ],
          "name": "stdout"
        }
      ]
    },
    {
      "cell_type": "code",
      "metadata": {
        "colab": {
          "base_uri": "https://localhost:8080/"
        },
        "id": "krgxadgynX25",
        "outputId": "b2316a2e-c921-4b5f-ffa0-4c2639e05e99"
      },
      "source": [
        "text3.collocations(num = 5)"
      ],
      "execution_count": 33,
      "outputs": [
        {
          "output_type": "stream",
          "text": [
            "said unto; pray thee; thou shalt; thou hast; thy seed\n"
          ],
          "name": "stdout"
        }
      ]
    }
  ]
}