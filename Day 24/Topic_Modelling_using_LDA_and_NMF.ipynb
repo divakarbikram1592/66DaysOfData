{
  "nbformat": 4,
  "nbformat_minor": 0,
  "metadata": {
    "colab": {
      "name": "Topic Modelling using LDA and NMF.ipynb",
      "provenance": [],
      "collapsed_sections": [],
      "authorship_tag": "ABX9TyODaw1hhqF0A9QEW/4pQ8jk",
      "include_colab_link": true
    },
    "kernelspec": {
      "name": "python3",
      "display_name": "Python 3"
    },
    "language_info": {
      "name": "python"
    }
  },
  "cells": [
    {
      "cell_type": "markdown",
      "metadata": {
        "id": "view-in-github",
        "colab_type": "text"
      },
      "source": [
        "<a href=\"https://colab.research.google.com/github/mayur7garg/66DaysOfData/blob/main/Day%2024/Topic_Modelling_using_LDA_and_NMF.ipynb\" target=\"_parent\"><img src=\"https://colab.research.google.com/assets/colab-badge.svg\" alt=\"Open In Colab\"/></a>"
      ]
    },
    {
      "cell_type": "markdown",
      "metadata": {
        "id": "--dNmwbm6ZqG"
      },
      "source": [
        "# Topic Modelling using LDA and NMF\n",
        "\n",
        "**Reference**:\n",
        "- [Topic Modeling with LDA and NMF on the ABC News Headlines dataset](https://medium.com/ml2vec/topic-modeling-is-an-unsupervised-learning-approach-to-clustering-documents-to-discover-topics-fdfbf30e27df)"
      ]
    },
    {
      "cell_type": "markdown",
      "metadata": {
        "id": "DVIAAMey6dYr"
      },
      "source": [
        "## Imports"
      ]
    },
    {
      "cell_type": "code",
      "metadata": {
        "id": "_R1riNUHtioe"
      },
      "source": [
        "import pandas as pd\n",
        "import numpy as np\n",
        "import scipy as sp\n",
        "import sklearn\n",
        "import sys\n",
        "from nltk.corpus import stopwords\n",
        "import nltk\n",
        "from gensim.models import ldamodel\n",
        "import gensim.corpora\n",
        "from sklearn.feature_extraction.text import CountVectorizer, TfidfTransformer\n",
        "from sklearn.decomposition import NMF\n",
        "from sklearn.preprocessing import normalize\n",
        "import pickle"
      ],
      "execution_count": 1,
      "outputs": []
    },
    {
      "cell_type": "code",
      "metadata": {
        "colab": {
          "base_uri": "https://localhost:8080/"
        },
        "id": "EqzjwVqou3bG",
        "outputId": "7bbd6f98-f4ae-4ee1-b4a6-4f94298e4fb5"
      },
      "source": [
        "nltk.download('stopwords')"
      ],
      "execution_count": 2,
      "outputs": [
        {
          "output_type": "stream",
          "text": [
            "[nltk_data] Downloading package stopwords to /root/nltk_data...\n",
            "[nltk_data]   Package stopwords is already up-to-date!\n"
          ],
          "name": "stdout"
        },
        {
          "output_type": "execute_result",
          "data": {
            "text/plain": [
              "True"
            ]
          },
          "metadata": {
            "tags": []
          },
          "execution_count": 2
        }
      ]
    },
    {
      "cell_type": "markdown",
      "metadata": {
        "id": "SviWd8Qi68rT"
      },
      "source": [
        "## Data Preparation"
      ]
    },
    {
      "cell_type": "markdown",
      "metadata": {
        "id": "UHp8C3BA6hQF"
      },
      "source": [
        "### Load the dataset\n",
        "Dataset used is available at [A Million News Headlines](https://www.kaggle.com/therohk/million-headlines)\n",
        "\n",
        "For this example:\n",
        "- Lines with bad formatting are ignored.\n",
        "- Only the `headline_text` column is used which contains the text headlines.\n",
        "- Only the first 10,000 rows are used."
      ]
    },
    {
      "cell_type": "code",
      "metadata": {
        "colab": {
          "base_uri": "https://localhost:8080/",
          "height": 204
        },
        "id": "8zInsmn1tygC",
        "outputId": "29044073-5efd-4b10-8330-ea1f1c24cd7c"
      },
      "source": [
        "data_text = pd.read_csv('/content/abcnews-date-text.csv', error_bad_lines = False, usecols = ['headline_text'], nrows = 10_000)\n",
        "data_text.head()"
      ],
      "execution_count": 3,
      "outputs": [
        {
          "output_type": "execute_result",
          "data": {
            "text/html": [
              "<div>\n",
              "<style scoped>\n",
              "    .dataframe tbody tr th:only-of-type {\n",
              "        vertical-align: middle;\n",
              "    }\n",
              "\n",
              "    .dataframe tbody tr th {\n",
              "        vertical-align: top;\n",
              "    }\n",
              "\n",
              "    .dataframe thead th {\n",
              "        text-align: right;\n",
              "    }\n",
              "</style>\n",
              "<table border=\"1\" class=\"dataframe\">\n",
              "  <thead>\n",
              "    <tr style=\"text-align: right;\">\n",
              "      <th></th>\n",
              "      <th>headline_text</th>\n",
              "    </tr>\n",
              "  </thead>\n",
              "  <tbody>\n",
              "    <tr>\n",
              "      <th>0</th>\n",
              "      <td>aba decides against community broadcasting lic...</td>\n",
              "    </tr>\n",
              "    <tr>\n",
              "      <th>1</th>\n",
              "      <td>act fire witnesses must be aware of defamation</td>\n",
              "    </tr>\n",
              "    <tr>\n",
              "      <th>2</th>\n",
              "      <td>a g calls for infrastructure protection summit</td>\n",
              "    </tr>\n",
              "    <tr>\n",
              "      <th>3</th>\n",
              "      <td>air nz staff in aust strike for pay rise</td>\n",
              "    </tr>\n",
              "    <tr>\n",
              "      <th>4</th>\n",
              "      <td>air nz strike to affect australian travellers</td>\n",
              "    </tr>\n",
              "  </tbody>\n",
              "</table>\n",
              "</div>"
            ],
            "text/plain": [
              "                                       headline_text\n",
              "0  aba decides against community broadcasting lic...\n",
              "1     act fire witnesses must be aware of defamation\n",
              "2     a g calls for infrastructure protection summit\n",
              "3           air nz staff in aust strike for pay rise\n",
              "4      air nz strike to affect australian travellers"
            ]
          },
          "metadata": {
            "tags": []
          },
          "execution_count": 3
        }
      ]
    },
    {
      "cell_type": "code",
      "metadata": {
        "colab": {
          "base_uri": "https://localhost:8080/"
        },
        "id": "TDjluiQducP2",
        "outputId": "e85196d3-a804-45bc-9698-61aa96583d36"
      },
      "source": [
        "data_text.shape"
      ],
      "execution_count": 4,
      "outputs": [
        {
          "output_type": "execute_result",
          "data": {
            "text/plain": [
              "(10000, 1)"
            ]
          },
          "metadata": {
            "tags": []
          },
          "execution_count": 4
        }
      ]
    },
    {
      "cell_type": "markdown",
      "metadata": {
        "id": "c2uf3d92675G"
      },
      "source": [
        "### Data preprocessing\n",
        "- Change the data type to string.\n",
        "- Remove the stopwords from each row.\n",
        "- Split each row into its constituent words.\n",
        "- Since this process is expensive, save the processed data onto disk using `pickle`."
      ]
    },
    {
      "cell_type": "code",
      "metadata": {
        "colab": {
          "base_uri": "https://localhost:8080/",
          "height": 221
        },
        "id": "37Ore6cWuMF3",
        "outputId": "07c9a41c-db63-40e9-ce25-4e88bdf387c5"
      },
      "source": [
        "data_text = data_text.astype('str')\n",
        "for idx in range(len(data_text)):\n",
        "    \n",
        "    data_text.iloc[idx]['headline_text'] = [word for word in data_text.iloc[idx]['headline_text'].split(' ') if word not in stopwords.words()]\n",
        "    \n",
        "    if (idx + 1) % 1000 == 0:\n",
        "        sys.stdout.write(f'\\rc = {idx + 1} / {len(data_text)}')\n",
        "\n",
        "pickle.dump(data_text, open('data_text.dat', 'wb'))\n",
        "\n",
        "data_text.head()"
      ],
      "execution_count": 5,
      "outputs": [
        {
          "output_type": "stream",
          "text": [
            "c = 10000 / 10000"
          ],
          "name": "stdout"
        },
        {
          "output_type": "execute_result",
          "data": {
            "text/html": [
              "<div>\n",
              "<style scoped>\n",
              "    .dataframe tbody tr th:only-of-type {\n",
              "        vertical-align: middle;\n",
              "    }\n",
              "\n",
              "    .dataframe tbody tr th {\n",
              "        vertical-align: top;\n",
              "    }\n",
              "\n",
              "    .dataframe thead th {\n",
              "        text-align: right;\n",
              "    }\n",
              "</style>\n",
              "<table border=\"1\" class=\"dataframe\">\n",
              "  <thead>\n",
              "    <tr style=\"text-align: right;\">\n",
              "      <th></th>\n",
              "      <th>headline_text</th>\n",
              "    </tr>\n",
              "  </thead>\n",
              "  <tbody>\n",
              "    <tr>\n",
              "      <th>0</th>\n",
              "      <td>[aba, decides, community, broadcasting, licence]</td>\n",
              "    </tr>\n",
              "    <tr>\n",
              "      <th>1</th>\n",
              "      <td>[act, fire, witnesses, must, aware, defamation]</td>\n",
              "    </tr>\n",
              "    <tr>\n",
              "      <th>2</th>\n",
              "      <td>[g, calls, infrastructure, protection, summit]</td>\n",
              "    </tr>\n",
              "    <tr>\n",
              "      <th>3</th>\n",
              "      <td>[air, nz, staff, aust, strike, pay, rise]</td>\n",
              "    </tr>\n",
              "    <tr>\n",
              "      <th>4</th>\n",
              "      <td>[air, nz, strike, affect, australian, travellers]</td>\n",
              "    </tr>\n",
              "  </tbody>\n",
              "</table>\n",
              "</div>"
            ],
            "text/plain": [
              "                                       headline_text\n",
              "0   [aba, decides, community, broadcasting, licence]\n",
              "1    [act, fire, witnesses, must, aware, defamation]\n",
              "2     [g, calls, infrastructure, protection, summit]\n",
              "3          [air, nz, staff, aust, strike, pay, rise]\n",
              "4  [air, nz, strike, affect, australian, travellers]"
            ]
          },
          "metadata": {
            "tags": []
          },
          "execution_count": 5
        }
      ]
    },
    {
      "cell_type": "markdown",
      "metadata": {
        "id": "-_s2aXVS7e_2"
      },
      "source": [
        "### Extract the data from pandas series to a list"
      ]
    },
    {
      "cell_type": "code",
      "metadata": {
        "colab": {
          "base_uri": "https://localhost:8080/"
        },
        "id": "d8cI_y0fukul",
        "outputId": "7b41508e-95ba-446d-f494-1eba5e435ed9"
      },
      "source": [
        "train_headlines = [value[0] for value in data_text.iloc[0:].values]\n",
        "train_headlines[np.random.randint(len(train_headlines))]"
      ],
      "execution_count": 6,
      "outputs": [
        {
          "output_type": "execute_result",
          "data": {
            "text/plain": [
              "['mugabe', 'faces', 'prospect', 'fresh', 'protests']"
            ]
          },
          "metadata": {
            "tags": []
          },
          "execution_count": 6
        }
      ]
    },
    {
      "cell_type": "markdown",
      "metadata": {
        "id": "sr_AT9bt7lSr"
      },
      "source": [
        "## Latent Dirichlet Allocation"
      ]
    },
    {
      "cell_type": "markdown",
      "metadata": {
        "id": "qyMI9GpS7uIa"
      },
      "source": [
        "### Fit an LDA model\n",
        "- Specify the number of topics to extract.\n",
        "- Create a dictionary mapping between ids and words.\n",
        "- Create a corpus from the extracted words.\n",
        "- Fit an LDA model on the corpus. Specify the number of `passes`."
      ]
    },
    {
      "cell_type": "code",
      "metadata": {
        "id": "ZrcwJgNP4DMF"
      },
      "source": [
        "num_topics = 8\n",
        "id2word = gensim.corpora.Dictionary(train_headlines)\n",
        "corpus = [id2word.doc2bow(text) for text in train_headlines]\n",
        "lda = ldamodel.LdaModel(corpus = corpus, id2word = id2word, num_topics = num_topics, passes = 10)"
      ],
      "execution_count": 7,
      "outputs": []
    },
    {
      "cell_type": "markdown",
      "metadata": {
        "id": "6j--k2hp8YYU"
      },
      "source": [
        "### Get LDA topics from the model and their top words"
      ]
    },
    {
      "cell_type": "code",
      "metadata": {
        "id": "nPQFXjQ14L4t"
      },
      "source": [
        "def get_lda_topics(model, num_topics, top_n = 10):\n",
        "    word_dict = {}\n",
        "\n",
        "    for i in range(num_topics):\n",
        "        words = model.show_topic(i, topn = top_n)\n",
        "        word_dict['LDA Topic #' + f'{(i+1):02d}'] = [i[0] for i in words]\n",
        "\n",
        "    return pd.DataFrame(word_dict)"
      ],
      "execution_count": 8,
      "outputs": []
    },
    {
      "cell_type": "code",
      "metadata": {
        "colab": {
          "base_uri": "https://localhost:8080/",
          "height": 359
        },
        "id": "pawN36fh4hXW",
        "outputId": "367d66ff-de58-48a7-96f4-a33dc8f75193"
      },
      "source": [
        "get_lda_topics(lda, num_topics, 10)"
      ],
      "execution_count": 9,
      "outputs": [
        {
          "output_type": "execute_result",
          "data": {
            "text/html": [
              "<div>\n",
              "<style scoped>\n",
              "    .dataframe tbody tr th:only-of-type {\n",
              "        vertical-align: middle;\n",
              "    }\n",
              "\n",
              "    .dataframe tbody tr th {\n",
              "        vertical-align: top;\n",
              "    }\n",
              "\n",
              "    .dataframe thead th {\n",
              "        text-align: right;\n",
              "    }\n",
              "</style>\n",
              "<table border=\"1\" class=\"dataframe\">\n",
              "  <thead>\n",
              "    <tr style=\"text-align: right;\">\n",
              "      <th></th>\n",
              "      <th>LDA Topic #01</th>\n",
              "      <th>LDA Topic #02</th>\n",
              "      <th>LDA Topic #03</th>\n",
              "      <th>LDA Topic #04</th>\n",
              "      <th>LDA Topic #05</th>\n",
              "      <th>LDA Topic #06</th>\n",
              "      <th>LDA Topic #07</th>\n",
              "      <th>LDA Topic #08</th>\n",
              "    </tr>\n",
              "  </thead>\n",
              "  <tbody>\n",
              "    <tr>\n",
              "      <th>0</th>\n",
              "      <td>crash</td>\n",
              "      <td>us</td>\n",
              "      <td>baghdad</td>\n",
              "      <td>us</td>\n",
              "      <td>water</td>\n",
              "      <td>police</td>\n",
              "      <td>govt</td>\n",
              "      <td>us</td>\n",
              "    </tr>\n",
              "    <tr>\n",
              "      <th>1</th>\n",
              "      <td>mp</td>\n",
              "      <td>world</td>\n",
              "      <td>new</td>\n",
              "      <td>iraq</td>\n",
              "      <td>us</td>\n",
              "      <td>win</td>\n",
              "      <td>attack</td>\n",
              "      <td>govt</td>\n",
              "    </tr>\n",
              "    <tr>\n",
              "      <th>2</th>\n",
              "      <td>howard</td>\n",
              "      <td>anti</td>\n",
              "      <td>plan</td>\n",
              "      <td>troops</td>\n",
              "      <td>urged</td>\n",
              "      <td>fire</td>\n",
              "      <td>woman</td>\n",
              "      <td>iraq</td>\n",
              "    </tr>\n",
              "    <tr>\n",
              "      <th>3</th>\n",
              "      <td>council</td>\n",
              "      <td>iraqi</td>\n",
              "      <td>election</td>\n",
              "      <td>court</td>\n",
              "      <td>go</td>\n",
              "      <td>probe</td>\n",
              "      <td>coast</td>\n",
              "      <td>toll</td>\n",
              "    </tr>\n",
              "    <tr>\n",
              "      <th>4</th>\n",
              "      <td>missing</td>\n",
              "      <td>iraq</td>\n",
              "      <td>south</td>\n",
              "      <td>north</td>\n",
              "      <td>sars</td>\n",
              "      <td>case</td>\n",
              "      <td>england</td>\n",
              "      <td>bush</td>\n",
              "    </tr>\n",
              "    <tr>\n",
              "      <th>5</th>\n",
              "      <td>australia</td>\n",
              "      <td>cup</td>\n",
              "      <td>found</td>\n",
              "      <td>korea</td>\n",
              "      <td>health</td>\n",
              "      <td>wins</td>\n",
              "      <td>call</td>\n",
              "      <td>hits</td>\n",
              "    </tr>\n",
              "    <tr>\n",
              "      <th>6</th>\n",
              "      <td>killed</td>\n",
              "      <td>says</td>\n",
              "      <td>iraqi</td>\n",
              "      <td>home</td>\n",
              "      <td>title</td>\n",
              "      <td>victory</td>\n",
              "      <td>hospital</td>\n",
              "      <td>nsw</td>\n",
              "    </tr>\n",
              "    <tr>\n",
              "      <th>7</th>\n",
              "      <td>four</td>\n",
              "      <td>group</td>\n",
              "      <td>us</td>\n",
              "      <td>govt</td>\n",
              "      <td>funding</td>\n",
              "      <td>first</td>\n",
              "      <td>police</td>\n",
              "      <td>iraqi</td>\n",
              "    </tr>\n",
              "    <tr>\n",
              "      <th>8</th>\n",
              "      <td>two</td>\n",
              "      <td>protesters</td>\n",
              "      <td>police</td>\n",
              "      <td>centre</td>\n",
              "      <td>ahead</td>\n",
              "      <td>killed</td>\n",
              "      <td>gold</td>\n",
              "      <td>tv</td>\n",
              "    </tr>\n",
              "    <tr>\n",
              "      <th>9</th>\n",
              "      <td>iraq</td>\n",
              "      <td>new</td>\n",
              "      <td>denies</td>\n",
              "      <td>virus</td>\n",
              "      <td>says</td>\n",
              "      <td>residents</td>\n",
              "      <td>concerns</td>\n",
              "      <td>peace</td>\n",
              "    </tr>\n",
              "  </tbody>\n",
              "</table>\n",
              "</div>"
            ],
            "text/plain": [
              "  LDA Topic #01 LDA Topic #02  ... LDA Topic #07 LDA Topic #08\n",
              "0         crash            us  ...          govt            us\n",
              "1            mp         world  ...        attack          govt\n",
              "2        howard          anti  ...         woman          iraq\n",
              "3       council         iraqi  ...         coast          toll\n",
              "4       missing          iraq  ...       england          bush\n",
              "5     australia           cup  ...          call          hits\n",
              "6        killed          says  ...      hospital           nsw\n",
              "7          four         group  ...        police         iraqi\n",
              "8           two    protesters  ...          gold            tv\n",
              "9          iraq           new  ...      concerns         peace\n",
              "\n",
              "[10 rows x 8 columns]"
            ]
          },
          "metadata": {
            "tags": []
          },
          "execution_count": 9
        }
      ]
    },
    {
      "cell_type": "markdown",
      "metadata": {
        "id": "F77Mz-Au8tOy"
      },
      "source": [
        "## Non Negative Matrix Factorization"
      ]
    },
    {
      "cell_type": "markdown",
      "metadata": {
        "id": "ajkLK_jK87E1"
      },
      "source": [
        "### Join the headlines to make sentences\n",
        "Stopwords were already removed during data preprocessing step."
      ]
    },
    {
      "cell_type": "code",
      "metadata": {
        "colab": {
          "base_uri": "https://localhost:8080/",
          "height": 35
        },
        "id": "XzHBOhfn4jPy",
        "outputId": "ba659fe3-abde-4b66-fee7-1bc15965a81a"
      },
      "source": [
        "train_headlines_sentences = [' '.join(text) for text in train_headlines]\n",
        "train_headlines_sentences[np.random.randint(len(train_headlines_sentences))]"
      ],
      "execution_count": 10,
      "outputs": [
        {
          "output_type": "execute_result",
          "data": {
            "application/vnd.google.colaboratory.intrinsic+json": {
              "type": "string"
            },
            "text/plain": [
              "'suspected rebels kill four kashmir'"
            ]
          },
          "metadata": {
            "tags": []
          },
          "execution_count": 10
        }
      ]
    },
    {
      "cell_type": "markdown",
      "metadata": {
        "id": "1YGBTVrq9FXa"
      },
      "source": [
        "### Train a TF-IDF Vectorizer\n",
        "- Train a `CountVectorizer` on the sentences at a word level.\n",
        "- Transform the sentences using the fitted `CountVectorizer`.\n",
        "- Fit a `TfidfTransformer` on the transformed output of the `CountVectorizer`.\n",
        "- Transform the data to get the TF-IDF values.\n",
        "\n",
        "**Note** - This step can be simplified by using the `TfidfVectorizer` directly on the headline sentences which encompasses both the `CountVectorizer` and `TfidfTranformer`."
      ]
    },
    {
      "cell_type": "code",
      "metadata": {
        "id": "O2wHTaKL41Yp"
      },
      "source": [
        "vectorizer = CountVectorizer(analyzer = 'word', max_features = 5000)\n",
        "x_counts = vectorizer.fit_transform(train_headlines_sentences)\n",
        "transformer = TfidfTransformer(smooth_idf = False)\n",
        "x_tfidf = transformer.fit_transform(x_counts)"
      ],
      "execution_count": 11,
      "outputs": []
    },
    {
      "cell_type": "markdown",
      "metadata": {
        "id": "siJe1AU495lM"
      },
      "source": [
        "### Normalize the TF-IDF values to unit length for each row"
      ]
    },
    {
      "cell_type": "code",
      "metadata": {
        "id": "QJ7ao3Rr4_f4"
      },
      "source": [
        "xtfidf_norm = normalize(x_tfidf, norm = 'l1', axis = 1)"
      ],
      "execution_count": 12,
      "outputs": []
    },
    {
      "cell_type": "markdown",
      "metadata": {
        "id": "g5PLbA059_7Z"
      },
      "source": [
        "### Fit an `NMF` model on the normalized TF-IDF values."
      ]
    },
    {
      "cell_type": "code",
      "metadata": {
        "colab": {
          "base_uri": "https://localhost:8080/"
        },
        "id": "TcKfCwRA5B7U",
        "outputId": "e94bb5b8-2beb-44a3-cce2-94be7e8341de"
      },
      "source": [
        "model = NMF(n_components = num_topics, init = 'nndsvd')\n",
        "model.fit(xtfidf_norm)"
      ],
      "execution_count": 13,
      "outputs": [
        {
          "output_type": "execute_result",
          "data": {
            "text/plain": [
              "NMF(alpha=0.0, beta_loss='frobenius', init='nndsvd', l1_ratio=0.0, max_iter=200,\n",
              "    n_components=8, random_state=None, shuffle=False, solver='cd', tol=0.0001,\n",
              "    verbose=0)"
            ]
          },
          "metadata": {
            "tags": []
          },
          "execution_count": 13
        }
      ]
    },
    {
      "cell_type": "markdown",
      "metadata": {
        "id": "YGhaO39A-SXR"
      },
      "source": [
        "### Get NMD topics from the model and their top words"
      ]
    },
    {
      "cell_type": "code",
      "metadata": {
        "id": "g4ewJAlf5NMw"
      },
      "source": [
        "def get_nmf_topics(model, n_top_words):\n",
        "    \n",
        "    feat_names = vectorizer.get_feature_names()\n",
        "    \n",
        "    word_dict = {};\n",
        "    for i in range(num_topics):\n",
        "        \n",
        "        words_ids = model.components_[i].argsort()[:-n_top_words - 1:-1]\n",
        "        words = [feat_names[key] for key in words_ids]\n",
        "        word_dict['NMF Topic #' + '{:02d}'.format(i+1)] = words;\n",
        "    \n",
        "    return pd.DataFrame(word_dict)"
      ],
      "execution_count": 14,
      "outputs": []
    },
    {
      "cell_type": "code",
      "metadata": {
        "colab": {
          "base_uri": "https://localhost:8080/",
          "height": 359
        },
        "id": "N0yDtpQQ5nTf",
        "outputId": "fd26571f-d0f0-4b17-c2a0-d32be82ff033"
      },
      "source": [
        "get_nmf_topics(model, 10)"
      ],
      "execution_count": 15,
      "outputs": [
        {
          "output_type": "execute_result",
          "data": {
            "text/html": [
              "<div>\n",
              "<style scoped>\n",
              "    .dataframe tbody tr th:only-of-type {\n",
              "        vertical-align: middle;\n",
              "    }\n",
              "\n",
              "    .dataframe tbody tr th {\n",
              "        vertical-align: top;\n",
              "    }\n",
              "\n",
              "    .dataframe thead th {\n",
              "        text-align: right;\n",
              "    }\n",
              "</style>\n",
              "<table border=\"1\" class=\"dataframe\">\n",
              "  <thead>\n",
              "    <tr style=\"text-align: right;\">\n",
              "      <th></th>\n",
              "      <th>NMF Topic #01</th>\n",
              "      <th>NMF Topic #02</th>\n",
              "      <th>NMF Topic #03</th>\n",
              "      <th>NMF Topic #04</th>\n",
              "      <th>NMF Topic #05</th>\n",
              "      <th>NMF Topic #06</th>\n",
              "      <th>NMF Topic #07</th>\n",
              "      <th>NMF Topic #08</th>\n",
              "    </tr>\n",
              "  </thead>\n",
              "  <tbody>\n",
              "    <tr>\n",
              "      <th>0</th>\n",
              "      <td>iraq</td>\n",
              "      <td>police</td>\n",
              "      <td>us</td>\n",
              "      <td>govt</td>\n",
              "      <td>council</td>\n",
              "      <td>new</td>\n",
              "      <td>crash</td>\n",
              "      <td>charged</td>\n",
              "    </tr>\n",
              "    <tr>\n",
              "      <th>1</th>\n",
              "      <td>says</td>\n",
              "      <td>probe</td>\n",
              "      <td>baghdad</td>\n",
              "      <td>nsw</td>\n",
              "      <td>security</td>\n",
              "      <td>resolution</td>\n",
              "      <td>woman</td>\n",
              "      <td>murder</td>\n",
              "    </tr>\n",
              "    <tr>\n",
              "      <th>2</th>\n",
              "      <td>bush</td>\n",
              "      <td>death</td>\n",
              "      <td>iraqi</td>\n",
              "      <td>rain</td>\n",
              "      <td>funding</td>\n",
              "      <td>world</td>\n",
              "      <td>car</td>\n",
              "      <td>court</td>\n",
              "    </tr>\n",
              "    <tr>\n",
              "      <th>3</th>\n",
              "      <td>howard</td>\n",
              "      <td>search</td>\n",
              "      <td>troops</td>\n",
              "      <td>water</td>\n",
              "      <td>elections</td>\n",
              "      <td>cup</td>\n",
              "      <td>hospital</td>\n",
              "      <td>stabbing</td>\n",
              "    </tr>\n",
              "    <tr>\n",
              "      <th>4</th>\n",
              "      <td>pm</td>\n",
              "      <td>missing</td>\n",
              "      <td>turkey</td>\n",
              "      <td>vic</td>\n",
              "      <td>land</td>\n",
              "      <td>ceo</td>\n",
              "      <td>killed</td>\n",
              "      <td>attack</td>\n",
              "    </tr>\n",
              "    <tr>\n",
              "      <th>5</th>\n",
              "      <td>missiles</td>\n",
              "      <td>victim</td>\n",
              "      <td>forces</td>\n",
              "      <td>plan</td>\n",
              "      <td>water</td>\n",
              "      <td>zealand</td>\n",
              "      <td>two</td>\n",
              "      <td>charge</td>\n",
              "    </tr>\n",
              "    <tr>\n",
              "      <th>6</th>\n",
              "      <td>post</td>\n",
              "      <td>investigate</td>\n",
              "      <td>says</td>\n",
              "      <td>fire</td>\n",
              "      <td>welcomes</td>\n",
              "      <td>china</td>\n",
              "      <td>accident</td>\n",
              "      <td>assault</td>\n",
              "    </tr>\n",
              "    <tr>\n",
              "      <th>7</th>\n",
              "      <td>blair</td>\n",
              "      <td>stabbing</td>\n",
              "      <td>korea</td>\n",
              "      <td>qld</td>\n",
              "      <td>pressure</td>\n",
              "      <td>president</td>\n",
              "      <td>fatal</td>\n",
              "      <td>attempted</td>\n",
              "    </tr>\n",
              "    <tr>\n",
              "      <th>8</th>\n",
              "      <td>set</td>\n",
              "      <td>charge</td>\n",
              "      <td>killed</td>\n",
              "      <td>urged</td>\n",
              "      <td>plan</td>\n",
              "      <td>nats</td>\n",
              "      <td>plane</td>\n",
              "      <td>offences</td>\n",
              "    </tr>\n",
              "    <tr>\n",
              "      <th>9</th>\n",
              "      <td>resolution</td>\n",
              "      <td>shooting</td>\n",
              "      <td>attack</td>\n",
              "      <td>farmers</td>\n",
              "      <td>seeks</td>\n",
              "      <td>takes</td>\n",
              "      <td>injured</td>\n",
              "      <td>robbery</td>\n",
              "    </tr>\n",
              "  </tbody>\n",
              "</table>\n",
              "</div>"
            ],
            "text/plain": [
              "  NMF Topic #01 NMF Topic #02  ... NMF Topic #07 NMF Topic #08\n",
              "0          iraq        police  ...         crash       charged\n",
              "1          says         probe  ...         woman        murder\n",
              "2          bush         death  ...           car         court\n",
              "3        howard        search  ...      hospital      stabbing\n",
              "4            pm       missing  ...        killed        attack\n",
              "5      missiles        victim  ...           two        charge\n",
              "6          post   investigate  ...      accident       assault\n",
              "7         blair      stabbing  ...         fatal     attempted\n",
              "8           set        charge  ...         plane      offences\n",
              "9    resolution      shooting  ...       injured       robbery\n",
              "\n",
              "[10 rows x 8 columns]"
            ]
          },
          "metadata": {
            "tags": []
          },
          "execution_count": 15
        }
      ]
    },
    {
      "cell_type": "code",
      "metadata": {
        "id": "-mM8M-IE6JS9"
      },
      "source": [
        ""
      ],
      "execution_count": 15,
      "outputs": []
    }
  ]
}